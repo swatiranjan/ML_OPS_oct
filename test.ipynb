{
 "cells": [
  {
   "cell_type": "code",
   "execution_count": 1,
   "id": "1d00ec9c-a70f-43c3-84a6-e51272d47e34",
   "metadata": {},
   "outputs": [],
   "source": [
    "import pandas as pd"
   ]
  },
  {
   "cell_type": "code",
   "execution_count": 3,
   "id": "72115eef-8a17-48ee-bb88-8accbb010bd8",
   "metadata": {},
   "outputs": [
    {
     "name": "stdout",
     "output_type": "stream",
     "text": [
      "This is my first deployment\n"
     ]
    }
   ],
   "source": [
    "print(\"This is my first deployment\")"
   ]
  },
  {
   "cell_type": "code",
   "execution_count": 5,
   "id": "3f58fede-d80a-462e-8695-e9084ea8447c",
   "metadata": {},
   "outputs": [
    {
     "data": {
      "text/plain": [
       "'this is my first git'"
      ]
     },
     "execution_count": 5,
     "metadata": {},
     "output_type": "execute_result"
    }
   ],
   "source": [
    "\"\"\"this is my first git\"\"\""
   ]
  },
  {
   "cell_type": "code",
   "execution_count": null,
   "execution_count": 7,
   "id": "da39d741-2cbb-4749-94eb-0c3d62080675",
   "metadata": {},
   "outputs": [
    {
     "name": "stdout",
     "output_type": "stream",
     "text": [
      "This is my Second deployment\n"
     ]
    }
   ],
   "source": [
    "print(\"This is my Second deployment\")"
   ]
  },
